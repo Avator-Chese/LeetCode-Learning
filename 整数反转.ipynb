{
 "nbformat": 4,
 "nbformat_minor": 2,
 "metadata": {
  "language_info": {
   "name": "python",
   "codemirror_mode": {
    "name": "ipython",
    "version": 3
   },
   "version": "3.7.4-final"
  },
  "orig_nbformat": 2,
  "file_extension": ".py",
  "mimetype": "text/x-python",
  "name": "python",
  "npconvert_exporter": "python",
  "pygments_lexer": "ipython3",
  "version": 3,
  "kernelspec": {
   "name": "python37464bita87018e5e5e94fa5a0810a0e8c375bdc",
   "display_name": "Python 3.7.4 64-bit"
  }
 },
 "cells": [
  {
   "cell_type": "code",
   "execution_count": 64,
   "metadata": {},
   "outputs": [],
   "source": [
    "def resverse_fun(x):\n",
    "    sign=\"\"\n",
    "    if x<0:\n",
    "        sign=\"-\"\n",
    "        x=-x\n",
    "    c=int(str(x)[::-1])\n",
    "    if c>2**31-1 or c<2**31*(-1):\n",
    "        return 0\n",
    "    else:\n",
    "        return sign+str(c)"
   ]
  },
  {
   "cell_type": "code",
   "execution_count": 65,
   "metadata": {},
   "outputs": [
    {
     "data": {
      "text/plain": "'23'"
     },
     "execution_count": 65,
     "metadata": {},
     "output_type": "execute_result"
    }
   ],
   "source": [
    "resverse_fun(320)"
   ]
  }
 ]
}