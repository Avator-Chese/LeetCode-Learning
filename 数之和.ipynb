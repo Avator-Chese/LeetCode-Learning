{
 "nbformat": 4,
 "nbformat_minor": 2,
 "metadata": {
  "language_info": {
   "name": "python",
   "codemirror_mode": {
    "name": "ipython",
    "version": 3
   },
   "version": "3.7.4-final"
  },
  "orig_nbformat": 2,
  "file_extension": ".py",
  "mimetype": "text/x-python",
  "name": "python",
  "npconvert_exporter": "python",
  "pygments_lexer": "ipython3",
  "version": 3,
  "kernelspec": {
   "name": "python37464bita87018e5e5e94fa5a0810a0e8c375bdc",
   "display_name": "Python 3.7.4 64-bit"
  }
 },
 "cells": [
  {
   "cell_type": "code",
   "execution_count": 2,
   "metadata": {},
   "outputs": [],
   "source": [
    "import numpy as np"
   ]
  },
  {
   "cell_type": "code",
   "execution_count": null,
   "metadata": {},
   "outputs": [],
   "source": [
    "#两数之和"
   ]
  },
  {
   "cell_type": "code",
   "execution_count": 3,
   "metadata": {},
   "outputs": [],
   "source": [
    "def twosums_twoloop(nums,target):\n",
    "    group=[]\n",
    "    for i in range(len(nums)):\n",
    "        for j in range(i+1,len(nums)):\n",
    "            if target==nums[i]+nums[j]:\n",
    "               group.append([i,j])\n",
    "               continue\n",
    "    return group"
   ]
  },
  {
   "cell_type": "code",
   "execution_count": 4,
   "metadata": {},
   "outputs": [
    {
     "data": {
      "text/plain": "[[0, 1], [0, 5], [1, 3], [1, 6], [3, 5], [5, 6]]"
     },
     "execution_count": 4,
     "metadata": {},
     "output_type": "execute_result"
    }
   ],
   "source": [
    "twosums_twoloop([2,7,1,2,3,7,2],9)"
   ]
  },
  {
   "cell_type": "code",
   "execution_count": 1,
   "metadata": {},
   "outputs": [],
   "source": [
    "#三数之和"
   ]
  },
  {
   "cell_type": "code",
   "execution_count": 155,
   "metadata": {},
   "outputs": [],
   "source": [
    "def threeSum(nums):\n",
    "    if not nums or len(nums)<3:\n",
    "        return []\n",
    "    new_list=sorted(nums)\n",
    "    if sum(new_list[:3])>0 or sum(new_list[-3:])<0 or new_list[0]>0 or new_list[-1]<0:\n",
    "        return []\n",
    "    sol=[]\n",
    "    for i in range(len(new_list)-2):\n",
    "        for k in range(i+1,len(new_list)-1):\n",
    "            for j in range(k+1,len(new_list)):\n",
    "                if new_list[i]+new_list[k]+new_list[j]==0 and [new_list[i],new_list[k],new_list[j]] not in sol:\n",
    "                    sol.append([new_list[i],new_list[k],new_list[j]])\n",
    "    return sol"
   ]
  },
  {
   "cell_type": "code",
   "execution_count": 156,
   "metadata": {},
   "outputs": [
    {
     "data": {
      "text/plain": "[[-2, 0, 2], [-2, 1, 1]]"
     },
     "execution_count": 156,
     "metadata": {},
     "output_type": "execute_result"
    }
   ],
   "source": [
    "threeSum([-2,0,1,1,2])"
   ]
  }
 ]
}