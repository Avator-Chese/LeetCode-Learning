{
 "nbformat": 4,
 "nbformat_minor": 2,
 "metadata": {
  "language_info": {
   "name": "python",
   "codemirror_mode": {
    "name": "ipython",
    "version": 3
   },
   "version": "3.7.4-final"
  },
  "orig_nbformat": 2,
  "file_extension": ".py",
  "mimetype": "text/x-python",
  "name": "python",
  "npconvert_exporter": "python",
  "pygments_lexer": "ipython3",
  "version": 3,
  "kernelspec": {
   "name": "python37464bita87018e5e5e94fa5a0810a0e8c375bdc",
   "display_name": "Python 3.7.4 64-bit"
  }
 },
 "cells": [
  {
   "cell_type": "code",
   "execution_count": 14,
   "metadata": {},
   "outputs": [],
   "source": [
    "import math\n",
    "import numpy as np\n",
    "import time"
   ]
  },
  {
   "cell_type": "code",
   "execution_count": 19,
   "metadata": {},
   "outputs": [],
   "source": [
    "start=time.process_time()"
   ]
  },
  {
   "cell_type": "code",
   "execution_count": 20,
   "metadata": {},
   "outputs": [],
   "source": [
    "def resver(x):\n",
    "    sign=False\n",
    "    if x<0:\n",
    "        sign=False\n",
    "    if x<10:\n",
    "        sign=True\n",
    "    else:\n",
    "        compents=[]\n",
    "        y=x\n",
    "        while y>=10:\n",
    "            compents.append(y%10)\n",
    "            y=math.floor(y/10)\n",
    "        compents.append(y)\n",
    "        compents=np.array(compents)\n",
    "        size=len(compents)\n",
    "        compents_new=np.zeros(size)\n",
    "        for i in range(size):\n",
    "            compents_new[i]=int(compents[(size-1)-i])\n",
    "        \n",
    "        if compents.all() == compents_new.all():\n",
    "            sign=True\n",
    "    print(sign)"
   ]
  },
  {
   "cell_type": "code",
   "execution_count": 21,
   "metadata": {},
   "outputs": [
    {
     "name": "stdout",
     "output_type": "stream",
     "text": "True\n"
    }
   ],
   "source": [
    "resver(100001)"
   ]
  },
  {
   "cell_type": "code",
   "execution_count": 22,
   "metadata": {},
   "outputs": [
    {
     "data": {
      "text/plain": "0.04976599999999998"
     },
     "execution_count": 22,
     "metadata": {},
     "output_type": "execute_result"
    }
   ],
   "source": [
    "time.process_time()-start"
   ]
  },
  {
   "cell_type": "code",
   "execution_count": null,
   "metadata": {},
   "outputs": [],
   "source": []
  }
 ]
}